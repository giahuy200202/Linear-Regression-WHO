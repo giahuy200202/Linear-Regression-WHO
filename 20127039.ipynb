{
 "cells": [
  {
   "cell_type": "markdown",
   "metadata": {},
   "source": [
    "# <center>Đồ án 3: Linear Regression</center>"
   ]
  },
  {
   "cell_type": "markdown",
   "metadata": {},
   "source": [
    "# Thông tin sinh viên\n",
    "\n",
    "- Họ và tên: Trần Đàm Gia Huy\n",
    "- MSSV: 20127039\n",
    "- Lớp: 20CLC08"
   ]
  },
  {
   "cell_type": "markdown",
   "metadata": {},
   "source": [
    "# Import"
   ]
  },
  {
   "cell_type": "code",
   "execution_count": 12,
   "metadata": {},
   "outputs": [],
   "source": [
    "import pandas as pd\n",
    "import numpy as np\n",
    "# Import thêm dữ thư viện nếu cần\n",
    "import math"
   ]
  },
  {
   "cell_type": "markdown",
   "metadata": {},
   "source": [
    "# Đọc dữ liệu"
   ]
  },
  {
   "cell_type": "code",
   "execution_count": 13,
   "metadata": {},
   "outputs": [],
   "source": [
    "# Đọc dữ liệu bằng pandas\n",
    "train = pd.read_csv('train.csv')\n",
    "test = pd.read_csv('test.csv')\n",
    "\n",
    "# Lấy các đặc trưng X và giá trị mục tiêu y cho các tập huấn luyện (train) và kiểm tra (test)\n",
    "X_train = train.iloc[:, :-1]    # Dataframe (chứa 10 đặc trưng huấn luyện)\n",
    "y_train = train.iloc[:, -1]     # Series    (chứa 1 giá trị mục tiêu kiểm tra)\n",
    "\n",
    "X_test = test.iloc[:, :-1]      # Dataframe (chứa 10 đặc trưng kiểm tra)\n",
    "y_test = test.iloc[:, -1]       # Series    (chứa 1 giá trị mục tiêu kiểm tra)\n",
    "\n",
    "# Sinh viên có thể sử dụng các khác nếu cần"
   ]
  },
  {
   "cell_type": "markdown",
   "metadata": {},
   "source": [
    "# Cài đặt hàm"
   ]
  },
  {
   "cell_type": "code",
   "execution_count": 14,
   "metadata": {},
   "outputs": [],
   "source": [
    "# Cài đặt các hàm cần thiết ở đây\n",
    "class OLSLinearRegression:\n",
    "    def fit(self, X, y):\n",
    "        X_pinv = np.linalg.inv(X.T @ X) @ X.T    # np.linalg.pinv(X)\n",
    "        self.w = X_pinv @ y\n",
    "        return self\n",
    "    def get_params(self):\n",
    "        return self.w\n",
    "    def predict(self, X):\n",
    "        return np.sum(self.w.ravel() * X, axis=1) \n",
    "\n",
    "def mse(y, y_hat):\n",
    "    return np.mean((y.ravel() - y_hat.ravel())**2)\n",
    "\n",
    "def rmse(y, y_hat):\n",
    "    return math.sqrt(mse(y,y_hat))\n",
    "    \n",
    "def FrameToNumpy(X_train, y_train, X_test, y_test):\n",
    "    return X_train.to_numpy(), y_train.to_numpy().reshape(-1,1), X_test.to_numpy(), y_test.to_numpy().reshape(-1,1)\n",
    "\n"
   ]
  },
  {
   "cell_type": "markdown",
   "metadata": {},
   "source": [
    "# Yêu cầu 1a: Sử dụng toàn bộ 10 đặc trưng đề bài cung cấp (2 điểm) "
   ]
  },
  {
   "cell_type": "code",
   "execution_count": 15,
   "metadata": {},
   "outputs": [
    {
     "name": "stdout",
     "output_type": "stream",
     "text": [
      "w values----------------\n",
      "w1: 0.015101362735318279\n",
      "w2: 0.09021998065775627\n",
      "w3: 0.04292181752549435\n",
      "w4: 0.13928911689488216\n",
      "w5: -0.5673328270884068\n",
      "w6: -0.0001007651148748953\n",
      "w7: 0.7407134377587112\n",
      "w8: 0.19093579767396474\n",
      "w9: 24.505973591149445\n",
      "w10: 2.393516607832779\n"
     ]
    }
   ],
   "source": [
    "# Phần code cho yêu cầu 1a\n",
    "X_train, y_train, X_test, y_test = FrameToNumpy(X_train, y_train, X_test, y_test)\n",
    "lr = OLSLinearRegression().fit(X_train, y_train)\n",
    "y_test_pre = lr.predict(X_test)\n",
    "w_array = lr.get_params()\n",
    "\n",
    "# Print results\n",
    "print('w values----------------')\n",
    "for i in range (0,len(w_array)):\n",
    "    print(f'w{i+1}: {w_array[i][0]}')"
   ]
  },
  {
   "cell_type": "code",
   "execution_count": 16,
   "metadata": {},
   "outputs": [
    {
     "name": "stdout",
     "output_type": "stream",
     "text": [
      "RMSE: 7.064046430584705\n"
     ]
    }
   ],
   "source": [
    "# Gọi hàm RMSE (tự cài đặt hoặc từ thư viện) trên tập kiểm tra\n",
    "RMSE_result = rmse(y_test, y_test_pre)\n",
    "print('RMSE:', RMSE_result) "
   ]
  },
  {
   "cell_type": "markdown",
   "metadata": {},
   "source": [
    "Công thức hồi quy\n",
    "\n",
    "$$\\text{Life expectancy} = 0.015101*Adult Mortality + 0.090220*BMI + 0.042922*Polio + 0.139289*Diphtheria - 0.567333*HIV/AIDS - 0.000101*GDP \n",
    "    + 0.740713*Thinness age 10-19 + 0.190936*Thinness age 5-9 + 24.505974*Income composition of resources + 2.393517*Schooling$$"
   ]
  },
  {
   "cell_type": "markdown",
   "metadata": {},
   "source": [
    "# Yêu cầu 1b: Xây dựng mô hình sử dụng duy nhất 1 đặc trưng, tìm mô hình cho kết quả tốt nhất (2 điểm)"
   ]
  },
  {
   "cell_type": "markdown",
   "metadata": {},
   "source": [
    "Lưu ý: khi sử dụng cross-validation, sinh viên cần xáo trộn dữ liệu 1 lần duy nhất và thực hiện trên toàn bộ đặc trưng"
   ]
  },
  {
   "cell_type": "code",
   "execution_count": 17,
   "metadata": {},
   "outputs": [
    {
     "name": "stdout",
     "output_type": "stream",
     "text": [
      "RMSE feature 1: 46.194107821647755\n",
      "RMSE feature 2: 27.94027665149374\n",
      "RMSE feature 3: 18.070402643853594\n",
      "RMSE feature 4: 15.99193060301548\n",
      "RMSE feature 5: 67.04186566087174\n",
      "RMSE feature 6: 60.25639913029676\n",
      "RMSE feature 7: 51.787804836618726\n",
      "RMSE feature 8: 51.70905155236947\n",
      "RMSE feature 9: 13.342584046061896\n",
      "RMSE feature 10: 11.778949675788038\n",
      "Best feature is feature: 10\n",
      "Feature 10 [[ 9.9]\n",
      " [ 9.8]\n",
      " [ 9.5]\n",
      " ...\n",
      " [10. ]\n",
      " [ 9.8]\n",
      " [ 9.8]]\n"
     ]
    }
   ],
   "source": [
    "# Phần code cho yêu cầu 1b\n",
    "# Tìm ra đặc trưng tốt nhất\n",
    "# In ra các kết quả cross-validation như yêu cầu\n",
    "\n",
    "# Initialize data\n",
    "def Init_Data():\n",
    "    X_train_clone, y_train_clone = X_train.copy(), y_train.copy() # Copy Data\n",
    "    X_train_clone, y_train_clone = Shuffle_Data(X_train_clone, y_train_clone) # Shuffle Data\n",
    "    numberSet = int(len(X_train_clone)/5)  # Get the number of data sets divided bỵ 5\n",
    "    return X_train_clone, y_train_clone, numberSet\n",
    "\n",
    "# Shuffle X_train_clone, y_train_clone\n",
    "def Shuffle_Data(X_train_clone, y_train_clone):\n",
    "    rand_result = np.arange(len(X_train))\n",
    "    np.random.shuffle(rand_result)\n",
    "    return X_train_clone[rand_result], y_train_clone[rand_result]\n",
    "\n",
    "# 5-fold cross-validation\n",
    "def cross_validation(X_train_feature, y_train_feature, numberSet):\n",
    "    rmse_val = 0\n",
    "    for j in range (0,5):\n",
    "        lr = OLSLinearRegression()\n",
    "        X_j_val = X_train_feature[numberSet*j:numberSet*(j+1),:]\n",
    "        y_j_val = y_train_feature[numberSet*j:numberSet*(j+1)]\n",
    "        X_j_train = np.concatenate([X_train_feature[0:numberSet*j,:], X_train_feature[numberSet*(j+1):len(X_train_feature),:]])\n",
    "        y_j_train = np.concatenate([y_train_feature[0:numberSet*j], y_train_feature[numberSet*(j+1):len(y_train_feature)]])\n",
    "        lr.fit(X_j_train, y_j_train)\n",
    "        y_j_val_pre = lr.predict(X_j_val)\n",
    "        rmse_val += rmse(y_j_val, y_j_val_pre)\n",
    "    return rmse_val/5\n",
    "\n",
    "# Execution\n",
    "X_train_clone, y_train_clone, numberSet = Init_Data()\n",
    "rmse_arr=np.array([cross_validation(X_train_clone[:,i:i+1], y_train_clone, numberSet) for i in range(0,10)]) # Find best feature model ( min RMSE )\n",
    "bestIndex = rmse_arr.argmin() # Best index feature\n",
    "X_best_feature = X_train[:,bestIndex].reshape(-1, 1) # Best feature ( min RMSE )\n",
    "\n",
    "# Print results\n",
    "for i in range (0,len(rmse_arr)):\n",
    "    print(f\"RMSE feature {i+1}: {rmse_arr[i]}\")\n",
    "print('Best feature is feature:', bestIndex+1)\n",
    "print(f'Feature {bestIndex+1}', X_best_feature)\n"
   ]
  },
  {
   "cell_type": "code",
   "execution_count": 18,
   "metadata": {},
   "outputs": [
    {
     "name": "stdout",
     "output_type": "stream",
     "text": [
      "W: 5.5573993976919205\n"
     ]
    }
   ],
   "source": [
    "# Huấn luyện lại mô hình best_feature_model với đặc trưng tốt nhất trên toàn bộ tập huấn luyện\n",
    "lr = OLSLinearRegression().fit(X_best_feature, y_train)\n",
    "y_test_pre = lr.predict(X_test[:,bestIndex].reshape(-1, 1))\n",
    "w = lr.get_params()\n",
    "print('W:', w[0][0])\n"
   ]
  },
  {
   "cell_type": "code",
   "execution_count": 19,
   "metadata": {},
   "outputs": [
    {
     "name": "stdout",
     "output_type": "stream",
     "text": [
      "RMSE: 10.26095039165537\n"
     ]
    }
   ],
   "source": [
    "# Gọi hàm RMSE (tự cài đặt hoặc từ thư viện) trên tập kiểm tra với mô hình best_feature_model\n",
    "RMSE_result = rmse(y_test, y_test_pre)\n",
    "print('RMSE:', RMSE_result) \n"
   ]
  },
  {
   "cell_type": "markdown",
   "metadata": {},
   "source": [
    "Công thức hồi quy\n",
    "\n",
    "$$\\text{Life expectancy} = 5.5573994*Schooling$$"
   ]
  },
  {
   "cell_type": "markdown",
   "metadata": {},
   "source": [
    "# Yêu cầu 1c: Sinh viên tự xây dựng mô hình, tìm mô hình cho kết quả tốt nhất (3 điểm)"
   ]
  },
  {
   "cell_type": "markdown",
   "metadata": {},
   "source": [
    "Lưu ý: khi sử dụng cross-validation, sinh viên cần xáo trộn dữ liệu 1 lần duy nhất và thực hiện trên toàn bộ $m$ mô hình mà sinh viên thiết kế"
   ]
  },
  {
   "cell_type": "code",
   "execution_count": 20,
   "metadata": {},
   "outputs": [
    {
     "name": "stdout",
     "output_type": "stream",
     "text": [
      "RMSE model 1: 9.55407523675269\n",
      "RMSE model 2: 13.200600645811434\n",
      "RMSE model 3: 12.951990251649391\n",
      "Best model is model: 1\n",
      "Best model: [[99.    91.     0.822 17.2  ]\n",
      " [ 7.    69.     0.613 12.9  ]\n",
      " [42.    42.     0.507  9.7  ]\n",
      " ...\n",
      " [98.    98.     0.569  9.8  ]\n",
      " [78.    77.     0.668 11.   ]\n",
      " [91.    91.     0.662 12.8  ]]\n"
     ]
    }
   ],
   "source": [
    "# Phần code cho yêu cầu 1c\n",
    "# Tìm ra mô hình tốt nhất (tự thiết kế bởi sinh viên)\n",
    "# In ra các kết quả cross-validation như yêu cầu\n",
    "\n",
    "def first_Model_Feature(x):\n",
    "    X_train_feature = np.concatenate([x[:,2:3], x[:,3:4], x[:,8:9], x[:,9:10]], axis=1)\n",
    "    return X_train_feature\n",
    "\n",
    "def second_Model_Feature(x):\n",
    "    X_train_feature = np.concatenate([x[:,9:10]**3, x[:,8:9]**2, x[:,3:4]], axis=1)\n",
    "    return X_train_feature\n",
    "\n",
    "def third_Model_Feature(x):\n",
    "    X_train_feature = np.concatenate([x[:,8:9]*x[:,9:10], x[:,1:2] + x[:,2:3] + x[:,3:4]], axis=1)\n",
    "    return X_train_feature\n",
    "\n",
    "X_train_feature_array = [ first_Model_Feature(X_train_clone), second_Model_Feature(X_train_clone), third_Model_Feature(X_train_clone) ]\n",
    "X_test_feature_array = [ first_Model_Feature(X_test), second_Model_Feature(X_test), third_Model_Feature(X_test) ]\n",
    "RMSE_array = [cross_validation(X_train_feature_array[0], y_train_clone, numberSet), cross_validation(X_train_feature_array[1], y_train_clone, numberSet), cross_validation(X_train_feature_array[2], y_train_clone, numberSet)]\n",
    "\n",
    "bestIndex = np.array(RMSE_array).argmin() # Best index feature\n",
    "X_best_feature = X_train_feature_array[bestIndex] # Best feature ( min RMSE )\n",
    "\n",
    "for i in range (0,len(RMSE_array)):\n",
    "    print(f\"RMSE model {i+1}: {RMSE_array[i]}\")\n",
    "print('Best model is model:', bestIndex+1)\n",
    "print('Best model:', X_best_feature)\n"
   ]
  },
  {
   "cell_type": "code",
   "execution_count": 21,
   "metadata": {},
   "outputs": [
    {
     "name": "stdout",
     "output_type": "stream",
     "text": [
      "W: [[0.14820296]\n",
      " [0.27274154]\n",
      " [5.55143115]\n",
      " [2.31214422]]\n"
     ]
    }
   ],
   "source": [
    "# Huấn luyện lại mô hình my_best_model trên toàn bộ tập huấn luyện\n",
    "lr = OLSLinearRegression().fit(X_best_feature, y_train)\n",
    "y_test_pre = lr.predict(X_test_feature_array[bestIndex])\n",
    "w = lr.get_params()\n",
    "print('W:', w)"
   ]
  },
  {
   "cell_type": "code",
   "execution_count": 22,
   "metadata": {},
   "outputs": [
    {
     "name": "stdout",
     "output_type": "stream",
     "text": [
      "RMSE: 9.692944694229913\n"
     ]
    }
   ],
   "source": [
    "# Gọi hàm RMSE (tự cài đặt hoặc từ thư viện) trên tập kiểm tra với mô hình my_best_model\n",
    "RMSE_result = rmse(y_test, y_test_pre)\n",
    "print('RMSE:', RMSE_result) "
   ]
  },
  {
   "cell_type": "markdown",
   "metadata": {},
   "source": [
    "Công thức hồi quy\n",
    "\n",
    "$$\\text{Life expectancy} = 0.14820296*Polio + 0.27274154*Diphtheria + 6.63465918*Income composition of resources + 2.23775082*Schooling$$"
   ]
  }
 ],
 "metadata": {
  "kernelspec": {
   "display_name": "Python 3.9.12 ('base')",
   "language": "python",
   "name": "python3"
  },
  "language_info": {
   "codemirror_mode": {
    "name": "ipython",
    "version": 3
   },
   "file_extension": ".py",
   "mimetype": "text/x-python",
   "name": "python",
   "nbconvert_exporter": "python",
   "pygments_lexer": "ipython3",
   "version": "3.9.12"
  },
  "orig_nbformat": 4,
  "vscode": {
   "interpreter": {
    "hash": "4baa465afbfa18da767db1d42e2cab3fcfb21f7892d0809102a0bcf1e2b4ec15"
   }
  }
 },
 "nbformat": 4,
 "nbformat_minor": 2
}
